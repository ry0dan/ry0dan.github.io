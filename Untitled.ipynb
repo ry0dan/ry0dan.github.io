{
 "cells": [
  {
   "cell_type": "code",
   "execution_count": 7,
   "id": "44b25d0c",
   "metadata": {},
   "outputs": [
    {
     "name": "stdout",
     "output_type": "stream",
     "text": [
      "Ports: 6606,7707,8808\n",
      "Hosts: jeazerlog.duckdns.org\n",
      "Version: 0.5.7B\n",
      "Install: false\n",
      "MTX: AsyncMutex_6SI8OkPnk\n",
      "Anti: false\n",
      "Pastebin: null\n",
      "BDOS: false\n",
      "Group: gta\n"
     ]
    }
   ],
   "source": [
    "# 1) use PBKDF2 to derive the decryption key and initialization key used for sha\n",
    "# 2) calculate sha256 of data[32:] and compare it to the embedded sha256 hash (data[:32]) (We don't care here)\n",
    "# 3) iv = data[32:48]\n",
    "# 4) aes_dec(key, iv, data[48:])\n",
    "\n",
    "# pip install backports.pbkdf2\n",
    "# pip install malduck\n",
    "\n",
    "from backports.pbkdf2 import pbkdf2_hmac\n",
    "from base64 import b64decode\n",
    "from malduck import aes, unpad\n",
    "\n",
    "salt = b\"\\xbf\\xeb\\x1e\\x56\\xfb\\xcd\\x97\\x3b\\xb2\\x19\\x02\\x24\\x30\\xa5\\x78\\x43\\x00\\x3d\\x56\\x44\\xd2\\x1e\\x62\\xb9\\xd4\\xf1\\x80\\xe7\\xe6\\xc3\\x39\\x41\"\n",
    "key = b\"ejFjc0p0QWtudENHVTdsakhjTExYbm1KM1RqbTVUMlA=\"\n",
    "\n",
    "config = {\n",
    "    \"Ports\": \"UGCInR8TOWCBkQI6fVXrRZ4Yj+b4OvMqcvbx3n2pTLIpcwWtvmX+PX6uN7uIsx65cuUHbVopkDdPuRbLHd6jfg==\",\n",
    "    \"Hosts\": \"k/33hCqQ1vnvaz3j8VvjdZRXF/poiYruJfX1WbFuFhwXYuNriBFrqyi0fQfk4xN0LS85PC6oOtCuLYarjJSnLsoDQGhIWf6+CTyT0wNgZOg=\",\n",
    "    \"Version\": \"WG0EkFzynw3wCeMtt128RLUZgT6BSNw7pqLDg9XUMRmpx5WpQw1ZN64GLHYrP/h47iM2KImVVeY0wAT1RqMVVg==\",\n",
    "    \"Install\": \"3/TL2kdA5ptdHUR1gfeiPmkurKrJsw3BjJ7njALFi+ouT64Tx5oE1P7U7NktNpWfBZVmmjxeR/xSyR14NdEPcw==\",\n",
    "    \"MTX\": \"7vyshlirEg6SwhKPRttI85LoRXYLoFWLzaDM4h57MqKcy9iihijskYVbiDhhZu5qzqRxMBX5DpJ6dAfancdQ8cqHklNaopJNiz3/ZgGt2BI=\",\n",
    "    \"Anti\": \"fvHzWJyCKwkBHk/dOoyPPC5w+F3GyNg0t7NAj8VXjA2b0ntbSqH11xvQACf2jGX7VSLAd6BjykqqQIJAb98Veg==\",\n",
    "    \"Pastebin\": \"B52OeJUAfsMHW3Ea2wBUni41OckwUyCtHz3yHsDSn9XjE4U+ncvS0Kmik61ZnDWTm+oNBPoQaDb5PHqfInPGXQ==\",\n",
    "    \"BDOS\": \"++zHWqz0o5rkma5tjGrmNMSXzvLTZVOFmlOz4lhTPTPejjFLjqH/rhhciAYgm+Mq5bOazkPYeFGYC8q5I47wVA==\",\n",
    "    \"Group\": \"fwbqIWwfsG6vrljdbLznhYHm5g+qylXiJVparVYZ5s61hXK84/sQMNn6fTH09rZ+MeWdbYV1AhcKtEpQzJ6I5g==\",\n",
    "}\n",
    "\n",
    "key = b64decode(key)\n",
    "\n",
    "#Derive the key\n",
    "dec_key = pbkdf2_hmac(\"sha1\", key, salt, 50000, 32)\n",
    "\n",
    "#Decrypt data with \n",
    "for k, v in config.items():\n",
    "    data = b64decode(v)\n",
    "    iv = data[32:48]\n",
    "    decrypted = unpad(aes.cbc.decrypt(dec_key, iv, data[48:]))\n",
    "    print(\"{}: {}\".format(k, decrypted.decode(\"utf-8\")))"
   ]
  },
  {
   "cell_type": "code",
   "execution_count": 5,
   "id": "126ef01f",
   "metadata": {},
   "outputs": [
    {
     "name": "stdout",
     "output_type": "stream",
     "text": [
      "Collecting backports.pbkdf2\n",
      "  Downloading backports.pbkdf2-0.1.tar.gz (9.9 kB)\n",
      "Building wheels for collected packages: backports.pbkdf2\n",
      "  Building wheel for backports.pbkdf2 (setup.py) ... \u001b[?25ldone\n",
      "\u001b[?25h  Created wheel for backports.pbkdf2: filename=backports.pbkdf2-0.1-cp38-cp38-linux_x86_64.whl size=6436 sha256=ece687a8c458a714f368e61b8754ae3c47337a7032db817b10cbbdecc880d686\n",
      "  Stored in directory: /home/varus/.cache/pip/wheels/b7/54/af/390e7443487d0b1c449c39a3c962db9cad27611cc6a41a5714\n",
      "Successfully built backports.pbkdf2\n",
      "Installing collected packages: backports.pbkdf2\n",
      "Successfully installed backports.pbkdf2-0.1\n",
      "Note: you may need to restart the kernel to use updated packages.\n"
     ]
    }
   ],
   "source": [
    "pip install backports.pbkdf2"
   ]
  },
  {
   "cell_type": "code",
   "execution_count": 6,
   "id": "14aadc72",
   "metadata": {},
   "outputs": [
    {
     "name": "stdout",
     "output_type": "stream",
     "text": [
      "Collecting malduck\n",
      "  Downloading malduck-4.1.0-py3-none-any.whl (87 kB)\n",
      "\u001b[K     |████████████████████████████████| 87 kB 841 kB/s eta 0:00:01\n",
      "\u001b[?25hCollecting pyelftools\n",
      "  Downloading pyelftools-0.28-py2.py3-none-any.whl (155 kB)\n",
      "\u001b[K     |████████████████████████████████| 155 kB 1.5 MB/s eta 0:00:01\n",
      "\u001b[?25hCollecting yara-python\n",
      "  Downloading yara-python-4.1.3.tar.gz (426 kB)\n",
      "\u001b[K     |████████████████████████████████| 426 kB 1.5 MB/s eta 0:00:01\n",
      "\u001b[?25hRequirement already satisfied: click>=7.0 in /home/varus/.local/lib/python3.8/site-packages (from malduck) (8.0.4)\n",
      "Collecting cryptography>=3.1\n",
      "  Downloading cryptography-36.0.1-cp36-abi3-manylinux_2_17_x86_64.manylinux2014_x86_64.whl (3.8 MB)\n",
      "\u001b[K     |████████████████████████████████| 3.8 MB 2.0 MB/s eta 0:00:01\n",
      "\u001b[?25hCollecting capstone>=4.0.1\n",
      "  Downloading capstone-4.0.2-py2.py3-none-manylinux1_x86_64.whl (2.1 MB)\n",
      "\u001b[K     |████████████████████████████████| 2.1 MB 1.7 MB/s eta 0:00:01\n",
      "\u001b[?25hCollecting pycryptodomex>=3.8.2\n",
      "  Downloading pycryptodomex-3.14.1-cp35-abi3-manylinux2010_x86_64.whl (2.0 MB)\n",
      "\u001b[K     |████████████████████████████████| 2.0 MB 1.7 MB/s eta 0:00:01\n",
      "\u001b[?25hRequirement already satisfied: typing-extensions>=3.7.4.2 in /home/varus/.local/lib/python3.8/site-packages (from malduck) (4.1.1)\n",
      "Collecting pefile==2019.4.18\n",
      "  Downloading pefile-2019.4.18.tar.gz (62 kB)\n",
      "\u001b[K     |████████████████████████████████| 62 kB 965 kB/s eta 0:00:01\n",
      "\u001b[?25hRequirement already satisfied: cffi>=1.12 in /home/varus/.local/lib/python3.8/site-packages (from cryptography>=3.1->malduck) (1.15.0)\n",
      "Collecting future\n",
      "  Downloading future-0.18.2.tar.gz (829 kB)\n",
      "\u001b[K     |████████████████████████████████| 829 kB 1.6 MB/s eta 0:00:01\n",
      "\u001b[?25hRequirement already satisfied: pycparser in /home/varus/.local/lib/python3.8/site-packages (from cffi>=1.12->cryptography>=3.1->malduck) (2.21)\n",
      "Building wheels for collected packages: yara-python, pefile, future\n",
      "  Building wheel for yara-python (setup.py) ... \u001b[?25ldone\n",
      "\u001b[?25h  Created wheel for yara-python: filename=yara_python-4.1.3-cp38-cp38-linux_x86_64.whl size=612304 sha256=847362e09507f6488081d08cd56babd1c56a694ea4ff8d2f5fd9f7066919eda4\n",
      "  Stored in directory: /home/varus/.cache/pip/wheels/29/b1/d4/e711cbefefba8dad5124c88350cd622382f8959fdf99f144df\n",
      "  Building wheel for pefile (setup.py) ... \u001b[?25ldone\n",
      "\u001b[?25h  Created wheel for pefile: filename=pefile-2019.4.18-py3-none-any.whl size=60822 sha256=3f3edde8d0c3ae32b7867bd3030bc421ec7b5d0ef59c17d8aa11cee1019b2fc0\n",
      "  Stored in directory: /home/varus/.cache/pip/wheels/42/52/d5/9550bbfb9eeceaf0f19db1cf651cc8ba41d3bcf8b4d20e4279\n",
      "  Building wheel for future (setup.py) ... \u001b[?25ldone\n",
      "\u001b[?25h  Created wheel for future: filename=future-0.18.2-py3-none-any.whl size=491058 sha256=3fc901b90aade17f0382d889ddfb02c747bc70b2ed3bbd469c55c789cc392c73\n",
      "  Stored in directory: /home/varus/.cache/pip/wheels/8e/70/28/3d6ccd6e315f65f245da085482a2e1c7d14b90b30f239e2cf4\n",
      "Successfully built yara-python pefile future\n",
      "Installing collected packages: pyelftools, yara-python, cryptography, capstone, pycryptodomex, future, pefile, malduck\n",
      "Successfully installed capstone-4.0.2 cryptography-36.0.1 future-0.18.2 malduck-4.1.0 pefile-2019.4.18 pycryptodomex-3.14.1 pyelftools-0.28 yara-python-4.1.3\n",
      "Note: you may need to restart the kernel to use updated packages.\n"
     ]
    }
   ],
   "source": [
    "pip install malduck"
   ]
  },
  {
   "cell_type": "code",
   "execution_count": null,
   "id": "8cfc7561",
   "metadata": {},
   "outputs": [],
   "source": []
  }
 ],
 "metadata": {
  "kernelspec": {
   "display_name": "Python 3 (ipykernel)",
   "language": "python",
   "name": "python3"
  },
  "language_info": {
   "codemirror_mode": {
    "name": "ipython",
    "version": 3
   },
   "file_extension": ".py",
   "mimetype": "text/x-python",
   "name": "python",
   "nbconvert_exporter": "python",
   "pygments_lexer": "ipython3",
   "version": "3.8.10"
  }
 },
 "nbformat": 4,
 "nbformat_minor": 5
}
